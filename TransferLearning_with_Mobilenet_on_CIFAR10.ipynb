{
  "nbformat": 4,
  "nbformat_minor": 0,
  "metadata": {
    "colab": {
      "name": "TransferLearning_with_Mobilenet_on_CIFAR10.ipynb",
      "provenance": []
    },
    "kernelspec": {
      "name": "python3",
      "display_name": "Python 3"
    },
    "language_info": {
      "name": "python"
    },
    "accelerator": "GPU"
  },
  "cells": [
    {
      "cell_type": "code",
      "execution_count": 1,
      "metadata": {
        "id": "ifxOWp0H0bVB"
      },
      "outputs": [],
      "source": [
        "import tensorflow as tf\n",
        "from keras.datasets import mnist\n",
        "from tensorflow.keras.utils import to_categorical\n",
        "from keras.layers import *\n",
        "from keras.models import *\n",
        "import matplotlib.pyplot as plt\n",
        "import tensorflow as tf"
      ]
    },
    {
      "cell_type": "code",
      "source": [
        "base_model = tf.keras.applications.mobilenet.MobileNet(\n",
        "    weights='imagenet', include_top=False,\n",
        "    classes = 10,\n",
        "    pooling='max', classifier_activation='relu'\n",
        ")"
      ],
      "metadata": {
        "colab": {
          "base_uri": "https://localhost:8080/"
        },
        "id": "Vr2Tzp-c1eVV",
        "outputId": "0c9e9350-5f68-4b72-90d9-df8323f30294"
      },
      "execution_count": 2,
      "outputs": [
        {
          "output_type": "stream",
          "name": "stdout",
          "text": [
            "WARNING:tensorflow:`input_shape` is undefined or non-square, or `rows` is not in [128, 160, 192, 224]. Weights for input shape (224, 224) will be loaded as the default.\n"
          ]
        }
      ]
    },
    {
      "cell_type": "code",
      "source": [
        "# def prep(x):\n",
        "#   return tf.cast(tf.keras.applications.mobilenet.preprocess_input(x), tf.float32)"
      ],
      "metadata": {
        "id": "j8YhzkwkGLzm"
      },
      "execution_count": 10,
      "outputs": []
    },
    {
      "cell_type": "code",
      "source": [
        "\n",
        "model = Sequential()\n",
        "model.add(tf.keras.layers.Input(shape=(32,32,3)))\n",
        "model.add(tf.keras.layers.Lambda(lambda x:tf.keras.applications.mobilenet.preprocess_input(x)))\n",
        "model.add(base_model)\n",
        "model.add(Dense(units=512, activation='relu'))\n",
        "model.add(Dropout(0.2))\n",
        "model.add(Dense(units=216, activation='relu'))\n",
        "model.add(Dropout(0.2))\n",
        "#model.add(Dense(units=108, activation='relu'))\n",
        "#model.add(Dropout(0.4))\n",
        "model.add(Dense(units=52, activation='relu'))\n",
        "model.add(Dense(units=10, activation='softmax'))"
      ],
      "metadata": {
        "id": "JO1lk0v82lum"
      },
      "execution_count": 21,
      "outputs": []
    },
    {
      "cell_type": "code",
      "source": [
        "model.compile(optimizer='adam', loss='SparseCategoricalCrossentropy', metrics=['accuracy'])"
      ],
      "metadata": {
        "id": "-7oGgbQV3tfO"
      },
      "execution_count": 22,
      "outputs": []
    },
    {
      "cell_type": "code",
      "source": [
        "def load():\n",
        "  dataset=tf.keras.datasets.cifar10.load_data()\n",
        "  return dataset"
      ],
      "metadata": {
        "id": "z1ZCMGCX3ynt"
      },
      "execution_count": 23,
      "outputs": []
    },
    {
      "cell_type": "code",
      "source": [
        "(X_train,Y_train),(X_test,Y_test)=load()\n",
        "\n",
        "##Preprocessing using their pipeline\n",
        "# X_train=tf.keras.applications.mobilenet.preprocess_input(X_train)\n",
        "# X_test=tf.keras.applications.mobilenet.preprocess_input(X_test)"
      ],
      "metadata": {
        "id": "5OKDLfsf44y4"
      },
      "execution_count": 24,
      "outputs": []
    },
    {
      "cell_type": "code",
      "source": [
        "result = model(tf.reshape(X_train[0], (1,32,32,3)))"
      ],
      "metadata": {
        "id": "-nfabg4c463E"
      },
      "execution_count": 16,
      "outputs": []
    },
    {
      "cell_type": "code",
      "source": [
        "result"
      ],
      "metadata": {
        "colab": {
          "base_uri": "https://localhost:8080/"
        },
        "id": "L57jmuVh5iRv",
        "outputId": "3d8cd3bc-c362-4fc1-cb11-69c2c43df842"
      },
      "execution_count": 17,
      "outputs": [
        {
          "output_type": "execute_result",
          "data": {
            "text/plain": [
              "<tf.Tensor: shape=(1, 10), dtype=float32, numpy=\n",
              "array([[0.10489306, 0.09455114, 0.10992441, 0.09270017, 0.08548681,\n",
              "        0.11432277, 0.09660638, 0.09329344, 0.10070934, 0.10751242]],\n",
              "      dtype=float32)>"
            ]
          },
          "metadata": {},
          "execution_count": 17
        }
      ]
    },
    {
      "cell_type": "code",
      "source": [
        "model.fit(X_train, Y_train, epochs=50, validation_data = (X_test,Y_test))"
      ],
      "metadata": {
        "colab": {
          "base_uri": "https://localhost:8080/"
        },
        "id": "Ap4cS7Ny6o_E",
        "outputId": "eb6ba2fe-c0ce-44d0-f2a6-1a832a6e8f5a"
      },
      "execution_count": null,
      "outputs": [
        {
          "output_type": "stream",
          "name": "stdout",
          "text": [
            "Epoch 1/50\n",
            " 238/1563 [===>..........................] - ETA: 30s - loss: 0.2847 - accuracy: 0.9179"
          ]
        }
      ]
    },
    {
      "cell_type": "markdown",
      "source": [
        "**"
      ],
      "metadata": {
        "id": "j4Ux1tCK8TKk"
      }
    }
  ]
}